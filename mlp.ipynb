{
 "cells": [
  {
   "cell_type": "code",
   "execution_count": 1,
   "metadata": {},
   "outputs": [],
   "source": [
    "stoi = {s:i for i, s in enumerate('.abcdefghijklmnopqrstuvwxyz')}\n",
    "itos = {i: s for s, i in stoi.items()}\n"
   ]
  },
  {
   "cell_type": "code",
   "execution_count": 2,
   "metadata": {},
   "outputs": [],
   "source": [
    "# Building Dataset\n",
    "import torch\n",
    "import torch.nn.functional as F\n",
    "block_size = 3\n",
    "\n",
    "with open('names.txt', 'r') as f:\n",
    "    words = f.readlines()\n",
    "\n",
    "X = []\n",
    "Y = []\n",
    "\n",
    "for word in words:\n",
    "    context = [0] * block_size\n",
    "    word = word.replace('\\n', '')\n",
    "    for char in word + '.':\n",
    "        X.append(context)\n",
    "        Y.append(stoi[char])\n",
    "        # print(''.join([itos[i] for i in context]), '---->', itos[Y[-1]])\n",
    "        context = context[1:] + [stoi[char]]\n",
    "        \n",
    "\n",
    "X = torch.tensor(X)        \n",
    "Y = torch.tensor(Y)    \n",
    "    "
   ]
  },
  {
   "cell_type": "code",
   "execution_count": 46,
   "metadata": {},
   "outputs": [],
   "source": [
    "seed = 12345\n",
    "\n",
    "n_embeds = 10\n",
    "n_hidden = 200\n",
    "vocab_size = 27\n",
    "\n",
    "g = torch.Generator().manual_seed(seed)\n",
    "C = torch.randn((27, n_embeds), generator=g, requires_grad=True)\n",
    "embed = C[X]\n",
    "W1 = torch.randn((n_embeds * block_size, n_hidden), generator=g)\n",
    "b1 = torch.randn(n_hidden, generator=g)\n",
    "W2 = torch.randn((n_hidden, vocab_size), generator=g)\n",
    "b2 = torch.randn(27, generator=g, requires_grad=True)\n",
    "\n",
    "parameters = [C, W1, b1, W2, b2]\n",
    "for p in parameters:\n",
    "    p.requires_grad = True"
   ]
  },
  {
   "cell_type": "markdown",
   "metadata": {},
   "source": [
    "# Selecting the good initialization for the model\n",
    "- We want our logits to be as closer to zero as possible so all have equal probability"
   ]
  },
  {
   "cell_type": "code",
   "execution_count": 12,
   "metadata": {},
   "outputs": [
    {
     "name": "stdout",
     "output_type": "stream",
     "text": [
      "15.588895797729492\n",
      "tensor([ -1.4509,  30.9118,  -1.2465,   1.8099, -14.1369,   0.7008,   5.3383,\n",
      "         12.7774,  24.2164,  10.0528, -13.9875,   6.4225,  -5.2979, -29.8048,\n",
      "         -6.1790,   8.1128,  18.3900,  -1.4629,   9.7187,   1.1339,   5.7250,\n",
      "        -23.6613,   7.6155,  -1.6565,   4.4218,   3.3672,  -9.3373],\n",
      "       grad_fn=<SelectBackward0>)\n"
     ]
    },
    {
     "data": {
      "text/plain": [
       "'\\nFor out init\\n'"
      ]
     },
     "execution_count": 12,
     "metadata": {},
     "output_type": "execute_result"
    }
   ],
   "source": [
    "\n",
    "'''\n",
    "With current initialization, we have random logits and a very high loss\n",
    "'''\n",
    "embs = C[X]\n",
    "h = torch.tanh(embs.view(-1, 30) @ W1 + b1)\n",
    "logits = h @ W2 + b2\n",
    "loss = F.cross_entropy(logits, Y)\n",
    "print(loss.item())\n",
    "print(logits[0])\n"
   ]
  },
  {
   "cell_type": "code",
   "execution_count": 44,
   "metadata": {},
   "outputs": [],
   "source": [
    "seed = 12345\n",
    "\n",
    "n_embeds = 10\n",
    "n_hidden = 200\n",
    "vocab_size = 27\n",
    "\n",
    "g = torch.Generator().manual_seed(seed)\n",
    "C = torch.randn((27, n_embeds), generator=g, requires_grad=True)\n",
    "embed = C[X]\n",
    "W1 = torch.randn((n_embeds * block_size, n_hidden), generator=g, requires_grad=True)\n",
    "b1 = torch.randn(n_hidden, generator=g, requires_grad=True)\n",
    "W2 = torch.randn((n_hidden, vocab_size), generator=g) * 0.01 # scaling down w so it is closer to 0\n",
    "b2 = torch.randn(27, generator=g) * 0.01 # because we want logits to be zero so setting 0 to bias makes sense\n",
    "\n",
    "parameters = [C, W1, b1, W2, b2]\n",
    "\n",
    "for p in parameters:\n",
    "    p.requires_grad = True"
   ]
  },
  {
   "cell_type": "markdown",
   "metadata": {},
   "source": [
    "# can we set the weights to zero to acheive the same thing\n",
    "- No we cannot \n",
    "- "
   ]
  },
  {
   "cell_type": "code",
   "execution_count": 45,
   "metadata": {},
   "outputs": [
    {
     "name": "stdout",
     "output_type": "stream",
     "text": [
      "3.301928997039795\n",
      "tensor([ 0.2292, -0.1436, -0.0122,  0.0868, -0.1657,  0.3516,  0.0228, -0.0131,\n",
      "        -0.0793,  0.0155,  0.0270, -0.0601,  0.1273,  0.1102, -0.0643,  0.1694,\n",
      "        -0.1527, -0.1348,  0.1308, -0.0303,  0.1093, -0.3078, -0.1969, -0.1189,\n",
      "        -0.0177, -0.0096, -0.1973], grad_fn=<SelectBackward0>)\n"
     ]
    }
   ],
   "source": [
    "embs = C[X]\n",
    "h = torch.tanh(embs.view(-1, 30) @ W1 + b1)\n",
    "logits = h @ W2 + b2\n",
    "loss = F.cross_entropy(logits, Y)\n",
    "print(loss.item())\n",
    "print(logits[0])"
   ]
  },
  {
   "cell_type": "markdown",
   "metadata": {},
   "source": [
    "- A better initialized network"
   ]
  },
  {
   "cell_type": "markdown",
   "metadata": {},
   "source": [
    "# Selecting Learning Rate"
   ]
  },
  {
   "cell_type": "code",
   "execution_count": 43,
   "metadata": {},
   "outputs": [
    {
     "ename": "RuntimeError",
     "evalue": "you can only change requires_grad flags of leaf variables.",
     "output_type": "error",
     "traceback": [
      "\u001b[0;31m---------------------------------------------------------------------------\u001b[0m",
      "\u001b[0;31mRuntimeError\u001b[0m                              Traceback (most recent call last)",
      "Cell \u001b[0;32mIn[43], line 8\u001b[0m\n\u001b[1;32m      5\u001b[0m lossi \u001b[38;5;241m=\u001b[39m []\n\u001b[1;32m      7\u001b[0m \u001b[38;5;28;01mfor\u001b[39;00m p \u001b[38;5;129;01min\u001b[39;00m parameters:\n\u001b[0;32m----> 8\u001b[0m     \u001b[43mp\u001b[49m\u001b[38;5;241;43m.\u001b[39;49m\u001b[43mrequires_grad\u001b[49m \u001b[38;5;241m=\u001b[39m \u001b[38;5;28;01mTrue\u001b[39;00m\n\u001b[1;32m     10\u001b[0m \u001b[38;5;28;01mfor\u001b[39;00m i \u001b[38;5;129;01min\u001b[39;00m \u001b[38;5;28mrange\u001b[39m(\u001b[38;5;241m1000\u001b[39m):\n\u001b[1;32m     11\u001b[0m     \u001b[38;5;66;03m# minibatch\u001b[39;00m\n\u001b[1;32m     12\u001b[0m     ix \u001b[38;5;241m=\u001b[39m torch\u001b[38;5;241m.\u001b[39mrandint(\u001b[38;5;241m0\u001b[39m, X\u001b[38;5;241m.\u001b[39mshape[\u001b[38;5;241m0\u001b[39m], (\u001b[38;5;241m32\u001b[39m,))\n",
      "\u001b[0;31mRuntimeError\u001b[0m: you can only change requires_grad flags of leaf variables."
     ]
    }
   ],
   "source": [
    "lre = torch.linspace(-3, 0, 1000)\n",
    "lrs = 10**lre\n",
    "\n",
    "lri = []\n",
    "lossi = []\n",
    "\n",
    "\n",
    "for i in range(1000):\n",
    "    # minibatch\n",
    "    ix = torch.randint(0, X.shape[0], (32,))\n",
    "    \n",
    "    embs = C[X[ix]]\n",
    "    h = torch.tanh(embs.view(-1, n_embeds * block_size) @ W1 + b1)\n",
    "    logits = h @ W2 + b2\n",
    "    loss = F.cross_entropy(logits, Y[ix])\n",
    "    \n",
    "    # make grads 0\n",
    "    for p in parameters:\n",
    "        p.grad = None\n",
    "\n",
    "    loss.backward()\n",
    "    lr = lrs[i]\n",
    "    \n",
    "    for p in parameters:\n",
    "        print(type(p))\n",
    "        p.data += -lr * p.grad\n",
    "\n",
    "    # track stats\n",
    "    lri.append(lre[i])\n",
    "    lossi.append(loss.item())\n",
    "\n"
   ]
  },
  {
   "cell_type": "code",
   "execution_count": 6,
   "metadata": {},
   "outputs": [
    {
     "data": {
      "text/plain": [
       "[<matplotlib.lines.Line2D at 0x149edd7221c0>]"
      ]
     },
     "execution_count": 6,
     "metadata": {},
     "output_type": "execute_result"
    },
    {
     "data": {
      "image/png": "[encoded data removed]",
      "text/plain": [
       "<Figure size 640x480 with 1 Axes>"
      ]
     },
     "metadata": {},
     "output_type": "display_data"
    }
   ],
   "source": [
    "import matplotlib.pyplot as plt\n",
    "\n",
    "# select learning rate from this plot\n",
    "plt.plot(lri, lossi)\n"
   ]
  },
  {
   "cell_type": "code",
   "execution_count": 250,
   "metadata": {},
   "outputs": [],
   "source": [
    "from tqdm import tqdm\n",
    "\n",
    "lossi = []\n",
    "stepsi = []\n",
    "\n",
    "def build_dataset(words):\n",
    "    X = []\n",
    "    Y = []\n",
    "    for word in words:\n",
    "        context = [0] * block_size\n",
    "        word = word.replace('\\n', '')\n",
    "        for char in word + '.':\n",
    "            X.append(context)\n",
    "            Y.append(stoi[char])\n",
    "            # print(''.join([itos[i] for i in context]), '---->', itos[Y[-1]])\n",
    "            context = context[1:] + [stoi[char]]\n",
    "    X = torch.tensor(X)        \n",
    "    Y = torch.tensor(Y)\n",
    "    print(X.shape, Y.shape)\n",
    "    return X, Y\n",
    "\n",
    "def train(Xtr, Ytr, batch_size=32, steps=10000, lr=0.1):\n",
    "    lr_switch = steps//2\n",
    "    for i in tqdm(range(steps)):\n",
    "        # minibatch\n",
    "        ix = torch.randint(0, Xtr.shape[0], (batch_size,))\n",
    "        \n",
    "        embs = C[Xtr[ix]]\n",
    "        h = torch.tanh(embs.view(-1, n_embeds * block_size) @ W1 + b1)\n",
    "        logits = h @ W2 + b2\n",
    "        loss = F.cross_entropy(logits, Ytr[ix])\n",
    "        \n",
    "        for p in parameters:\n",
    "            p.grad = None\n",
    "\n",
    "        loss.backward()\n",
    "        if i == lr_switch:\n",
    "            lr = lr/10\n",
    "        for p in parameters:\n",
    "            p.data += -lr * p.grad\n",
    "            \n",
    "        # track stats\n",
    "        stepsi.append(i)\n",
    "        lossi.append(loss.item())\n",
    "    plt.plot(stepsi, lossi)\n",
    "    plt.show()     \n",
    "    return\n",
    "\n",
    "@torch.no_grad()\n",
    "def test(Xte, Yte):\n",
    "            \n",
    "    embs = C[Xte]\n",
    "    h = torch.tanh(embs.view(-1, n_embeds * block_size) @ W1 + b1)\n",
    "    logits = h @ W2 + b2\n",
    "    loss = F.cross_entropy(logits, Yte)\n",
    "    \n",
    "    for p in parameters:\n",
    "        p.grad = None\n",
    "    \n",
    "    print(f\"Loss: {loss.item()}\")\n",
    "    return\n",
    "   "
   ]
  },
  {
   "cell_type": "code",
   "execution_count": 248,
   "metadata": {},
   "outputs": [
    {
     "name": "stdout",
     "output_type": "stream",
     "text": [
      "torch.Size([182625, 3]) torch.Size([182625])\n",
      "torch.Size([22655, 3]) torch.Size([22655])\n",
      "torch.Size([22866, 3]) torch.Size([22866])\n"
     ]
    }
   ],
   "source": [
    "import random\n",
    "random.seed(42)\n",
    "random.shuffle(words)\n",
    "\n",
    "n1 = int(0.8 * len(words))\n",
    "n2 = int(0.9 * len(words))\n",
    "\n",
    "Xtr, Ytr= build_dataset(words[:n1])\n",
    "Xdev, Ydev = build_dataset(words[n1:n2])\n",
    "Xte, Yte = build_dataset(words[n2:])"
   ]
  },
  {
   "cell_type": "code",
   "execution_count": 249,
   "metadata": {},
   "outputs": [
    {
     "name": "stderr",
     "output_type": "stream",
     "text": [
      "100%|██████████| 200000/200000 [01:41<00:00, 1979.81it/s]\n"
     ]
    },
    {
     "data": {
      "image/png": "[encoded data removed]",
      "text/plain": [
       "<Figure size 640x480 with 1 Axes>"
      ]
     },
     "metadata": {},
     "output_type": "display_data"
    },
    {
     "name": "stdout",
     "output_type": "stream",
     "text": [
      "Loss: 2.171877145767212\n",
      "Loss: 2.11287260055542\n"
     ]
    }
   ],
   "source": [
    "train(Xtr, Ytr, batch_size=32, steps=200_000, lr=0.1)\n",
    "test(Xdev, Ydev)\n",
    "test(Xtr, Ytr)"
   ]
  },
  {
   "cell_type": "code",
   "execution_count": 232,
   "metadata": {},
   "outputs": [
    {
     "name": "stdout",
     "output_type": "stream",
     "text": [
      "Loss: 2.1881918907165527\n"
     ]
    }
   ],
   "source": [
    "test(Xte, Yte)"
   ]
  },
  {
   "cell_type": "code",
   "execution_count": 255,
   "metadata": {},
   "outputs": [
    {
     "data": {
      "text/plain": [
       "['...amin.',\n",
       " '...yarajeison.',\n",
       " '...ola.',\n",
       " '...jerra.',\n",
       " '...meh.',\n",
       " '...sca.',\n",
       " '...micha.',\n",
       " '...mafel.',\n",
       " '...ezmi.',\n",
       " '...mawf.']"
      ]
     },
     "execution_count": 255,
     "metadata": {},
     "output_type": "execute_result"
    }
   ],
   "source": [
    "def generate_name(start_chars='...', num_names=10):\n",
    "    out = []\n",
    "    for _ in range(num_names):\n",
    "        name = start_chars\n",
    "        row = name[-3:]\n",
    "        \n",
    "        while True:\n",
    "            context = torch.tensor([stoi[char] for char in row])\n",
    "            e = C[context]\n",
    "            h = torch.tanh(e.view(-1, 30) @ W1 + b1)\n",
    "            logits = h @ W2 + b2\n",
    "            counts = logits.exp()\n",
    "            probs = counts/ counts.sum(dim=1, keepdim=True)\n",
    "            char = itos[torch.multinomial(probs, num_samples=1, replacement=True, generator=g).item()]\n",
    "            name += char\n",
    "            if char == '.':\n",
    "                break\n",
    "            row = name[-3:]\n",
    "        out.append(name)\n",
    "    return out\n",
    "\n",
    "out = generate_name()\n",
    "out      "
   ]
  },
  {
   "cell_type": "code",
   "execution_count": null,
   "metadata": {},
   "outputs": [],
   "source": []
  }
 ],
 "metadata": {
  "kernelspec": {
   "display_name": "tte",
   "language": "python",
   "name": "python3"
  },
  "language_info": {
   "codemirror_mode": {
    "name": "ipython",
    "version": 3
   },
   "file_extension": ".py",
   "mimetype": "text/x-python",
   "name": "python",
   "nbconvert_exporter": "python",
   "pygments_lexer": "ipython3",
   "version": "3.9.19"
  }
 },
 "nbformat": 4,
 "nbformat_minor": 2
}
